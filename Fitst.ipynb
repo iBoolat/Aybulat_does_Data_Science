{
 "cells": [
  {
   "cell_type": "markdown",
   "id": "92fca5f1",
   "metadata": {},
   "source": [
    "# My first notebook"
   ]
  },
  {
   "cell_type": "code",
   "execution_count": 3,
   "id": "642ba39a",
   "metadata": {},
   "outputs": [
    {
     "name": "stdout",
     "output_type": "stream",
     "text": [
      "Mom, look, I'm a data scientist!\n"
     ]
    }
   ],
   "source": [
    "print(\"Mom, look, I\\'m a data scientist!\")"
   ]
  },
  {
   "cell_type": "code",
   "execution_count": null,
   "id": "51e10c9a",
   "metadata": {},
   "outputs": [],
   "source": []
  }
 ],
 "metadata": {
  "kernelspec": {
   "display_name": "Python 3 (ipykernel)",
   "language": "python",
   "name": "python3"
  },
  "language_info": {
   "codemirror_mode": {
    "name": "ipython",
    "version": 3
   },
   "file_extension": ".py",
   "mimetype": "text/x-python",
   "name": "python",
   "nbconvert_exporter": "python",
   "pygments_lexer": "ipython3",
   "version": "3.11.3"
  }
 },
 "nbformat": 4,
 "nbformat_minor": 5
}
